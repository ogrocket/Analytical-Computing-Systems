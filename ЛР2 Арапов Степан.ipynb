{
 "cells": [
  {
   "cell_type": "markdown",
   "metadata": {},
   "source": [
    "### Арапов Степан , М8О-208б-19\n",
    "### Системы аналитических вычислений.Лабораторная работа №2\n",
    "#### Первая часть\n",
    "вариант A:<br>\n",
    "1)Реализовать в виде функций методы дихотомии и Ньютона <br>\n",
    "2)Реализовать ползунки для перебора значений входных параметров<br>\n",
    "3)Сделать вывод 6 кадров нахождения решения (оформить через массив графиков)<br>\n",
    "4)Ответ сравнить с ответом, который даёт функция solve<br>"
   ]
  },
  {
   "cell_type": "markdown",
   "metadata": {},
   "source": [
    "Для начала зададим нашу функцию и постороим её график"
   ]
  },
  {
   "cell_type": "code",
   "execution_count": 1,
   "metadata": {},
   "outputs": [
    {
     "data": {
      "image/png": "[encoded data removed]",
      "text/plain": [
       "Graphics object consisting of 1 graphics primitive"
      ]
     },
     "execution_count": 1,
     "metadata": {},
     "output_type": "execute_result"
    }
   ],
   "source": [
    "y(x) = x^3 - 9*x^2 + 23*x - 15\n",
    "plot(y, ymax=10, ymin=-10, xmax=6, xmin=-1)"
   ]
  },
  {
   "cell_type": "code",
   "execution_count": 59,
   "metadata": {},
   "outputs": [
    {
     "data": {
      "text/html": [
       "<html><script type=\"math/tex; mode=display\">\\newcommand{\\Bold}[1]{\\mathbf{#1}}x^{3} - 9 \\, x^{2} + 23 \\, x - 15</script></html>"
      ],
      "text/latex": [
       "\\begin{math}\n",
       "\\newcommand{\\Bold}[1]{\\mathbf{#1}}x^{3} - 9 \\, x^{2} + 23 \\, x - 15\n",
       "\\end{math}"
      ],
      "text/plain": [
       "x^3 - 9*x^2 + 23*x - 15"
      ]
     },
     "metadata": {},
     "output_type": "display_data"
    }
   ],
   "source": [
    "show(y(x))"
   ]
  },
  {
   "cell_type": "markdown",
   "metadata": {},
   "source": [
    "Как видно, это обычный многочлен третьей степени, корнями которого являются числа 1, 3 и 5.<br>\n",
    "Определим теперь функции для метода Ньютона и дихотомии. "
   ]
  },
  {
   "cell_type": "code",
   "execution_count": 36,
   "metadata": {},
   "outputs": [],
   "source": [
    "def newton(f, a, b, EPS, view=False):\n",
    "    x1 = a\n",
    "    x2 = (a + b) / 2\n",
    "    df = f.derivative()\n",
    "    draws = []\n",
    "    picture = plot(y, ymax=3, ymin=-3, xmax=6, xmin=0)\n",
    "    while abs(x2 - x1) >= EPS:\n",
    "        x1 = x2\n",
    "        x2 = x1 - f(x=x1)/df(x=x1)\n",
    "        if view:\n",
    "            draws.append(picture + point((x1,y(x1)), color='orange', size=50, zorder=5))\n",
    "    if view:\n",
    "        return x1,draws    \n",
    "    return x1\n",
    "\n",
    "def dichotomy(f, a, b, EPS, view=False):\n",
    "    x1 = a\n",
    "    x2 = b\n",
    "    x = (x1+x2)/2\n",
    "    draws = []\n",
    "    picture = plot(y, ymax=3, ymin=-3, xmax=6, xmin=0)\n",
    "    while abs(x2 - x1) >= EPS:\n",
    "        x = (x1+x2)/2\n",
    "        if f(x1)*f(x) >0:\n",
    "            x1 = x\n",
    "        else:\n",
    "            x2 = x\n",
    "        if view:\n",
    "            draws.append(picture + point((x,y(x)), color='orange',size=50,zorder=5))\n",
    "    if view:\n",
    "        return x, draws\n",
    "    return x"
   ]
  },
  {
   "cell_type": "markdown",
   "metadata": {},
   "source": [
    "Проверим наши функции на некоторых интервалах"
   ]
  },
  {
   "cell_type": "code",
   "execution_count": 29,
   "metadata": {},
   "outputs": [
    {
     "data": {
      "text/plain": [
       "(0.978682130214405, 3.00006261740764, 5.00741107246200)"
      ]
     },
     "execution_count": 29,
     "metadata": {},
     "output_type": "execute_result"
    }
   ],
   "source": [
    "newton(y, -10, 1.1, 0.05), newton(y, 2, 3.9, 0.05), newton(y, 3.27, 100, 0.05)"
   ]
  },
  {
   "cell_type": "code",
   "execution_count": 30,
   "metadata": {},
   "outputs": [
    {
     "data": {
      "text/plain": [
       "(0.969921875000000, 2.97968750000000, 5.01756347656250)"
      ]
     },
     "execution_count": 30,
     "metadata": {},
     "output_type": "execute_result"
    }
   ],
   "source": [
    "dichotomy(y, -10, 1.1, 0.05), dichotomy(y, 2, 3.9, 0.05), dichotomy(y, 3.27, 100, 0.05)"
   ]
  },
  {
   "cell_type": "markdown",
   "metadata": {},
   "source": [
    "Визуализация:<br>\n",
    "Метод Ньютона"
   ]
  },
  {
   "cell_type": "code",
   "execution_count": 53,
   "metadata": {},
   "outputs": [
    {
     "data": {
      "application/vnd.jupyter.widget-view+json": {
       "model_id": "04dd7687bb7443729bc0642510a31339",
       "version_major": 2,
       "version_minor": 0
      },
      "text/plain": [
       "Interactive function <function _ at 0x6fff0f4590e0> with 2 widgets\n",
       "  a: FloatSlider(value=3.0, description='a'…"
      ]
     },
     "metadata": {},
     "output_type": "display_data"
    }
   ],
   "source": [
    "@interact\n",
    "def _(a=(0, 6, 0.25), b=(0, 6, 0.25)):\n",
    "    x, draws = newton(y, a, b, EPS=1e-5, view=True)\n",
    "    graphics_array([draws],nrows=3,ncols=2).show()\n",
    "    print('x = ', x)"
   ]
  },
  {
   "cell_type": "markdown",
   "metadata": {},
   "source": [
    "Дихотомия"
   ]
  },
  {
   "cell_type": "code",
   "execution_count": 54,
   "metadata": {},
   "outputs": [
    {
     "data": {
      "application/vnd.jupyter.widget-view+json": {
       "model_id": "ab250675217b4918874e036538a7a413",
       "version_major": 2,
       "version_minor": 0
      },
      "text/plain": [
       "Interactive function <function _ at 0x6fff0c589ef0> with 2 widgets\n",
       "  a: FloatSlider(value=3.0, description='a'…"
      ]
     },
     "metadata": {},
     "output_type": "display_data"
    }
   ],
   "source": [
    "@interact\n",
    "def _(a=(0, 6, 0.25), b=(0, 6, 0.25)):\n",
    "    x, draws = dichotomy(y, a, b, EPS=1e-5, view=True)\n",
    "    graphics_array([draws], nrows=3, ncols=2).show()\n",
    "    print('x = ', x)"
   ]
  },
  {
   "cell_type": "markdown",
   "metadata": {},
   "source": [
    "Теперь сравним наш результат с тем, который даёт стандартная функция solve()"
   ]
  },
  {
   "cell_type": "code",
   "execution_count": 55,
   "metadata": {},
   "outputs": [
    {
     "data": {
      "text/plain": [
       "[x == 1, x == 5, x == 3]"
      ]
     },
     "execution_count": 55,
     "metadata": {},
     "output_type": "execute_result"
    }
   ],
   "source": [
    "solve(y, x)"
   ]
  },
  {
   "cell_type": "markdown",
   "metadata": {},
   "source": [
    "В приближении до эпсилон наши функции дают такой же ответ"
   ]
  },
  {
   "cell_type": "markdown",
   "metadata": {},
   "source": [
    "#### Вторая часть\n",
    "1)Реализовать расширенный алгоритм Евклида <br>\n",
    "2)Получить НОД, сравнить его с результатом от функции gcd() <br>\n",
    "3)Получить представление НОД в виде: $f*u + v*g$ (тождество Безу)\n",
    "\n",
    "По списку второй => вариант 2:\n",
    "\n",
    "$f = 5*x^4 - 15*x^3 + 15*x^2 - 5*x$ <br>\n",
    "$g = -22*x^5 + 33*x^4 - 11*x^3 - 99*x + 99$\n"
   ]
  },
  {
   "cell_type": "markdown",
   "metadata": {},
   "source": [
    "Для корректной работы с полиномами нужно задать кольцо,в котором будем работать"
   ]
  },
  {
   "cell_type": "code",
   "execution_count": 75,
   "metadata": {},
   "outputs": [],
   "source": [
    "R.<x> = PolynomialRing(QQ)\n",
    "f = 5*x^4 - 15*x^3 + 15*x^2 -5*x\n",
    "g = -22*x^5 + 33*x^4 - 11*x^3 - 99*x + 99"
   ]
  },
  {
   "cell_type": "markdown",
   "metadata": {},
   "source": [
    "Какие корни у этих многочленов?"
   ]
  },
  {
   "cell_type": "code",
   "execution_count": 78,
   "metadata": {},
   "outputs": [
    {
     "data": {
      "text/plain": [
       "([(0, 1), (1, 3)], [(1, 1)])"
      ]
     },
     "execution_count": 78,
     "metadata": {},
     "output_type": "execute_result"
    }
   ],
   "source": [
    "f.roots(), g.roots()"
   ]
  },
  {
   "cell_type": "markdown",
   "metadata": {},
   "source": [
    "Уже отсюда видно, что НОД $ f_x$ и $g_x$ будет $x-1$\n",
    "\n",
    "Посмотрим на результат встроенной функции gcd()"
   ]
  },
  {
   "cell_type": "code",
   "execution_count": 77,
   "metadata": {},
   "outputs": [
    {
     "data": {
      "text/html": [
       "<html><script type=\"math/tex; mode=display\">\\newcommand{\\Bold}[1]{\\mathbf{#1}}x - 1</script></html>"
      ],
      "text/latex": [
       "\\begin{math}\n",
       "\\newcommand{\\Bold}[1]{\\mathbf{#1}}x - 1\n",
       "\\end{math}"
      ],
      "text/plain": [
       "x - 1"
      ]
     },
     "metadata": {},
     "output_type": "display_data"
    }
   ],
   "source": [
    "res = gcd(f, g)\n",
    "show(res)"
   ]
  },
  {
   "cell_type": "markdown",
   "metadata": {},
   "source": [
    "Расширенный алгоритм Евклида"
   ]
  },
  {
   "cell_type": "code",
   "execution_count": 103,
   "metadata": {},
   "outputs": [],
   "source": [
    "def bezout(a, b):\n",
    "    '''An implementation of extended Euclidean algorithm.\n",
    "    Returns integer x, y and gcd(a, b) for Bezout equation:\n",
    "        ax + by = gcd(a, b).\n",
    "    '''\n",
    "    x, xx, y, yy = 1, 0, 0, 1\n",
    "    while b:\n",
    "        q = a // b\n",
    "        c = b\n",
    "        b = a % c\n",
    "        a = c\n",
    "        # a, b = b, a % b\n",
    "        x, xx = xx, x - xx*q\n",
    "        y, yy = yy, y - yy*q\n",
    "    return (x, y, a)"
   ]
  },
  {
   "cell_type": "code",
   "execution_count": 105,
   "metadata": {},
   "outputs": [
    {
     "data": {
      "text/html": [
       "<html><script type=\"math/tex; mode=display\">\\newcommand{\\Bold}[1]{\\mathbf{#1}}\\verb|gcd|\\phantom{\\verb!x!}\\verb|=| -\\frac{6336}{49} x + \\frac{6336}{49} \\verb|;\t|\\phantom{\\verb!x!}\\verb|u|\\phantom{\\verb!x!}\\verb|=| -\\frac{352}{175} x^{3} - \\frac{1936}{1225} x^{2} + \\frac{4752}{1225} x + \\frac{1584}{245} \\verb|;\t|\\phantom{\\verb!x!}\\verb|v|\\phantom{\\verb!x!}\\verb|=| -\\frac{16}{35} x^{2} + \\frac{16}{49} x + \\frac{64}{49}</script></html>"
      ],
      "text/latex": [
       "\\begin{math}\n",
       "\\newcommand{\\Bold}[1]{\\mathbf{#1}}\\verb|gcd|\\phantom{\\verb!x!}\\verb|=| -\\frac{6336}{49} x + \\frac{6336}{49} \\verb|;\t|\\phantom{\\verb!x!}\\verb|u|\\phantom{\\verb!x!}\\verb|=| -\\frac{352}{175} x^{3} - \\frac{1936}{1225} x^{2} + \\frac{4752}{1225} x + \\frac{1584}{245} \\verb|;\t|\\phantom{\\verb!x!}\\verb|v|\\phantom{\\verb!x!}\\verb|=| -\\frac{16}{35} x^{2} + \\frac{16}{49} x + \\frac{64}{49}\n",
       "\\end{math}"
      ],
      "text/plain": [
       "'gcd = ' -6336/49*x + 6336/49 ';\\t u = ' -352/175*x^3 - 1936/1225*x^2 + 4752/1225*x + 1584/245 ';\\t v = ' -16/35*x^2 + 16/49*x + 64/49"
      ]
     },
     "metadata": {},
     "output_type": "display_data"
    }
   ],
   "source": [
    "u, v, gcd_euclid = bezout(f, g)\n",
    "show(\"gcd = \", gcd_euclid(x),\";\\t u = \", u(x), \";\\t v = \", v(x))"
   ]
  },
  {
   "cell_type": "code",
   "execution_count": 106,
   "metadata": {},
   "outputs": [
    {
     "data": {
      "text/plain": [
       "-6336/49*x + 6336/49"
      ]
     },
     "execution_count": 106,
     "metadata": {},
     "output_type": "execute_result"
    }
   ],
   "source": [
    "u * f + v * g"
   ]
  },
  {
   "cell_type": "markdown",
   "metadata": {},
   "source": [
    "Полученный результат совпал с НОД, найденным в начале этого пункта (домножение на константу -6336/49 ничего не меняет), значит найденные коэффициенты верны. Алгоритм работает корректно."
   ]
  }
 ],
 "metadata": {
  "kernelspec": {
   "display_name": "SageMath 9.2",
   "language": "sage",
   "name": "sagemath"
  },
  "language_info": {
   "codemirror_mode": {
    "name": "ipython",
    "version": 3
   },
   "file_extension": ".py",
   "mimetype": "text/x-python",
   "name": "python",
   "nbconvert_exporter": "python",
   "pygments_lexer": "ipython3",
   "version": "3.7.7"
  }
 },
 "nbformat": 4,
 "nbformat_minor": 4
}
