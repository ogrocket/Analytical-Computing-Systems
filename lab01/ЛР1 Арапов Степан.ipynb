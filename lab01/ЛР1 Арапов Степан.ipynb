{
 "cells": [
  {
   "cell_type": "markdown",
   "metadata": {},
   "source": [
    "Результат скидывать на почту tt48@mail.ru в виде файла *.ipynb<br>\n",
    "В теме письма указывать, что это второй курс и что это \"системы аналитических вычислений\" или \"пакеты\". + номер ДЗ туда же.<br>\n",
    "В содержании письма указывать ФИО и группу."
   ]
  },
  {
   "cell_type": "markdown",
   "metadata": {},
   "source": [
    "<h1>Задание 1 - часть 1 - Квадратик</h1>\n",
    "Доделать начинания, что были на занятии:<br>\n",
    "при помощи функции отображения графиков отобразить квадратик.<br>\n",
    "Задав квадратик матрицей координат, повернуть и сдвинуть его относительно исходного положения.<br>\n",
    "Вывести исходный квадратик и результат.\n"
   ]
  },
  {
   "cell_type": "code",
   "execution_count": 1,
   "metadata": {},
   "outputs": [
    {
     "data": {
      "image/png": "[encoded data removed]",
      "text/plain": [
       "Graphics object consisting of 1 graphics primitive"
      ]
     },
     "metadata": {},
     "output_type": "display_data"
    }
   ],
   "source": [
    "import math \n",
    "\n",
    "a = 10 #square side\n",
    "alpha = 0.3 #rotating angle (radians)\n",
    "square = matrix([[0,0], [0,a], [a,a], [a,0], [0,0]])\n",
    "\n",
    "rotation_matrix = matrix([\n",
    "                            [cos(alpha), -sin(alpha)],\n",
    "                            [(sin(alpha)),(cos(alpha))]\n",
    "                        ])\n",
    "\n",
    "rotated_square = square * rotation_matrix\n",
    "\n",
    "dx = 3 \n",
    "dy = 8\n",
    "carryover_vector = vector([dx, dy])\n",
    "\n",
    "for i in range(square.nrows()):\n",
    "    rotated_square[i] += carryover_vector\n",
    "\n",
    "show(line(rotated_square), xmin=0, xmax=20, ymin=0, ymax=20, aspect_ratio=1)"
   ]
  },
  {
   "cell_type": "markdown",
   "metadata": {},
   "source": [
    "<h1>Задание 1 - часть 2 - Исследование функции</h1>\n",
    "Для заданной формулой функции найти:\n",
    "<ol>\n",
    "    <li>Область определения функции.</li>\n",
    "    <li>Является ли функция четной или нечетной, является ли периодической.</li>\n",
    "    <li>Точки пересечения графика с осями координат.</li>\n",
    "    <li>Промежутки знакопостоянства.</li>\n",
    "    <li>Промежутки возрастания и убывания.</li>\n",
    "    <li>Точки экстремума и значения в этих точках.</li>\n",
    "    <li>Непрерывность. Наличие точек разрыва и их классификация.</li>\n",
    "    <li>Асимптоты.</li>\n",
    "</ol>\n",
    "Построить график функции, асимптоты, промежутки знакопостоянства. (см. папку с материалами).<br>\n",
    "Необходимо также сделать минимальное, но оформление решения, а не просто набор ответов.\n",
    "\n",
    "<h4>Справочные материалы:</h4>\n",
    "<ol>\n",
    "    <li>Гусак, 1999г. - исследование графиков</li>\n",
    "    <li>Ефимов, Поспелов — т.2, стр. 86</li>\n",
    "    <li>Ильин, Поздняк — т.1, стр. 143 и стр. 300-327</li>\n",
    "    <li>Пискунов — стр. 144-184</li>\n",
    "</ol>"
   ]
  },
  {
   "cell_type": "markdown",
   "metadata": {},
   "source": [
    "<h1>Варианты:</h1>"
   ]
  },
  {
   "cell_type": "code",
   "execution_count": 2,
   "metadata": {},
   "outputs": [],
   "source": [
    "tasks = [ \n",
    "            sin(2*x**3)**2/x**3  # исправлен\n",
    "            , (x**2 - 4)*sin((pi*(x**2))/6) / (x**2 - 1)\n",
    "            , sqrt(abs(3*x^3 + 2*x^2 - 10*x)) / (4*x)\n",
    "            , 1/2 * ln(sqrt(x^2 + 1) / sqrt(x^2 - 1)) - 15*x**2\n",
    "            , (x^3 - x^2 - x + 1)^(1/3) / tan(x)\n",
    "            , 2*log((x - 1) / x) + 1\n",
    "            , ln(x - 1) / (x - 1)^2\n",
    "        ]"
   ]
  },
  {
   "cell_type": "markdown",
   "metadata": {},
   "source": [
    "В your_number присвоить ваш номер по списку в рейтинге.\n",
    "Рейтинги ваши лежат <a href='https://docs.google.com/spreadsheets/d/14cdxMHQw2Bd4i_4qoYWzV4olXgaNuckR6ZzWLCQQEUg/edit?usp=sharing'>здесь</a>"
   ]
  },
  {
   "cell_type": "code",
   "execution_count": 3,
   "metadata": {},
   "outputs": [
    {
     "name": "stdout",
     "output_type": "stream",
     "text": [
      "Номер вашего задания: 1.\n"
     ]
    },
    {
     "data": {
      "text/html": [
       "<html><script type=\"math/tex; mode=display\">\\newcommand{\\Bold}[1]{\\mathbf{#1}}\\verb|Ваша|\\phantom{\\verb!x!}\\verb|функция:| \\frac{{\\left(x^{2} - 4\\right)} \\sin\\left(\\frac{1}{6} \\, \\pi x^{2}\\right)}{x^{2} - 1}</script></html>"
      ],
      "text/latex": [
       "\\begin{math}\n",
       "\\newcommand{\\Bold}[1]{\\mathbf{#1}}\\verb|Ваша|\\phantom{\\verb!x!}\\verb|функция:| \\frac{{\\left(x^{2} - 4\\right)} \\sin\\left(\\frac{1}{6} \\, \\pi x^{2}\\right)}{x^{2} - 1}\n",
       "\\end{math}"
      ],
      "text/plain": [
       "'Ваша функция: ' (x^2 - 4)*sin(1/6*pi*x^2)/(x^2 - 1)"
      ]
     },
     "metadata": {},
     "output_type": "display_data"
    }
   ],
   "source": [
    "def get_variant_for_number(_number, _variations_quo):\n",
    "    return (_number - 1) % _variations_quo\n",
    "\n",
    "\n",
    "your_number = 2  # сюда вбить ваш номер по списку в рейтинге \n",
    "number_of_your_task = get_variant_for_number(_number=your_number, _variations_quo=len(tasks))\n",
    "print(f\"Номер вашего задания: {number_of_your_task}.\")\n",
    "show(\"Ваша функция: \", tasks[number_of_your_task])"
   ]
  },
  {
   "cell_type": "markdown",
   "metadata": {},
   "source": [
    "Для начала зададим функцию и нарисуем её график"
   ]
  },
  {
   "cell_type": "code",
   "execution_count": 4,
   "metadata": {},
   "outputs": [],
   "source": [
    "f(x) = (x**2 - 4) * sin((pi*(x**2))/6) / (x**2 - 1)"
   ]
  },
  {
   "cell_type": "code",
   "execution_count": 5,
   "metadata": {},
   "outputs": [
    {
     "data": {
      "image/png": "[encoded data removed]",
      "text/plain": [
       "Graphics object consisting of 3 graphics primitives"
      ]
     },
     "execution_count": 5,
     "metadata": {},
     "output_type": "execute_result"
    }
   ],
   "source": [
    "plot(f.simplify(), ymax=4, xmin=-11, xmax=11,ymin=-4, exclude = [-1,1],aspect_ratio=1)"
   ]
  },
  {
   "cell_type": "markdown",
   "metadata": {},
   "source": [
    "#### 1. Область определения функции. \n",
    "Числитель функции может принимать любые значения $x$. Знаменатель так же может принимать любые значения $x$, но при этом он не должен равняться нулю. Знаменатель равняется нулю в следующих случаях:\n",
    "$\\left[ \n",
    "      \\begin{gathered} \n",
    "        x = 1; \\\\ \n",
    "        x = -1, \\\\ \n",
    "      \\end{gathered} \n",
    "\\right.$"
   ]
  },
  {
   "cell_type": "code",
   "execution_count": 6,
   "metadata": {},
   "outputs": [
    {
     "data": {
      "text/plain": [
       "[[[-Infinity < x, x < -1]], [[-1 < x, x < 1]], [[1 < x, x < +Infinity]]]"
      ]
     },
     "execution_count": 6,
     "metadata": {},
     "output_type": "execute_result"
    }
   ],
   "source": [
    "var('x')\n",
    "D = solve([(x != -1), (x != 1)], x,  algorithm='sympy')\n",
    "D"
   ]
  },
  {
   "cell_type": "markdown",
   "metadata": {},
   "source": [
    "#### 2. Является ли функция четной или нечетной, является ли периодической.\n",
    "По графику видно, что функция симметрична относительно прямой $x=0$, значит функция чётная. Но проверим это еще и аналитически:\n",
    "\n",
    "Функция $f(x)$ называется чётной, если справедливо равенство:\n",
    "$f(-x)=f(x), \\forall x \\in X$.\n",
    "\n",
    "Функция $f(x)$ называется нечётной, если справедливо равенство:\n",
    "$ f(-x)=-f(x), \\forall x \\in X$."
   ]
  },
  {
   "cell_type": "code",
   "execution_count": 7,
   "metadata": {},
   "outputs": [
    {
     "data": {
      "text/plain": [
       "0"
      ]
     },
     "execution_count": 7,
     "metadata": {},
     "output_type": "execute_result"
    }
   ],
   "source": [
    "f(x) - f(-x)"
   ]
  },
  {
   "cell_type": "code",
   "execution_count": 8,
   "metadata": {},
   "outputs": [
    {
     "data": {
      "text/plain": [
       "2*(x^2 - 4)*sin(1/6*pi*x^2)/(x^2 - 1)"
      ]
     },
     "execution_count": 8,
     "metadata": {},
     "output_type": "execute_result"
    }
   ],
   "source": [
    "(f(-x) + f(x)).simplify()"
   ]
  },
  {
   "cell_type": "markdown",
   "metadata": {},
   "source": [
    "Подтвердили аналитически $\\textbf{чётность}$  функции.<br>\n",
    "Теперь проверим переодичность аналитически, хотя из графика и видно,что функция не переодическая."
   ]
  },
  {
   "cell_type": "code",
   "execution_count": 9,
   "metadata": {},
   "outputs": [
    {
     "data": {
      "text/html": [
       "<html><script type=\"math/tex; mode=display\">\\newcommand{\\Bold}[1]{\\mathbf{#1}}-\\frac{{\\left({\\left(2 \\, T x^{3} \\sin\\left(\\frac{1}{6} \\, \\pi T^{2}\\right) + x^{4} \\sin\\left(\\frac{1}{6} \\, \\pi T^{2}\\right) + {\\left(T^{2} - 5\\right)} x^{2} \\sin\\left(\\frac{1}{6} \\, \\pi T^{2}\\right) - 2 \\, T x \\sin\\left(\\frac{1}{6} \\, \\pi T^{2}\\right) - {\\left(T^{2} - 4\\right)} \\sin\\left(\\frac{1}{6} \\, \\pi T^{2}\\right)\\right)} \\cos\\left(\\frac{1}{3} \\, \\pi T x\\right) + {\\left(2 \\, T x^{3} \\cos\\left(\\frac{1}{6} \\, \\pi T^{2}\\right) + x^{4} \\cos\\left(\\frac{1}{6} \\, \\pi T^{2}\\right) + {\\left(T^{2} - 5\\right)} x^{2} \\cos\\left(\\frac{1}{6} \\, \\pi T^{2}\\right) - 2 \\, T x \\cos\\left(\\frac{1}{6} \\, \\pi T^{2}\\right) - {\\left(T^{2} - 4\\right)} \\cos\\left(\\frac{1}{6} \\, \\pi T^{2}\\right)\\right)} \\sin\\left(\\frac{1}{3} \\, \\pi T x\\right)\\right)} \\cos\\left(\\frac{1}{6} \\, \\pi x^{2}\\right) - {\\left(2 \\, T x^{3} + x^{4} + {\\left(T^{2} - 5\\right)} x^{2} - 4 \\, T^{2} - 8 \\, T x - {\\left(2 \\, T x^{3} \\cos\\left(\\frac{1}{6} \\, \\pi T^{2}\\right) + x^{4} \\cos\\left(\\frac{1}{6} \\, \\pi T^{2}\\right) + {\\left(T^{2} - 5\\right)} x^{2} \\cos\\left(\\frac{1}{6} \\, \\pi T^{2}\\right) - 2 \\, T x \\cos\\left(\\frac{1}{6} \\, \\pi T^{2}\\right) - {\\left(T^{2} - 4\\right)} \\cos\\left(\\frac{1}{6} \\, \\pi T^{2}\\right)\\right)} \\cos\\left(\\frac{1}{3} \\, \\pi T x\\right) + {\\left(2 \\, T x^{3} \\sin\\left(\\frac{1}{6} \\, \\pi T^{2}\\right) + x^{4} \\sin\\left(\\frac{1}{6} \\, \\pi T^{2}\\right) + {\\left(T^{2} - 5\\right)} x^{2} \\sin\\left(\\frac{1}{6} \\, \\pi T^{2}\\right) - 2 \\, T x \\sin\\left(\\frac{1}{6} \\, \\pi T^{2}\\right) - {\\left(T^{2} - 4\\right)} \\sin\\left(\\frac{1}{6} \\, \\pi T^{2}\\right)\\right)} \\sin\\left(\\frac{1}{3} \\, \\pi T x\\right) + 4\\right)} \\sin\\left(\\frac{1}{6} \\, \\pi x^{2}\\right)}{2 \\, T x^{3} + x^{4} + {\\left(T^{2} - 2\\right)} x^{2} - T^{2} - 2 \\, T x + 1}</script></html>"
      ],
      "text/latex": [
       "\\begin{math}\n",
       "\\newcommand{\\Bold}[1]{\\mathbf{#1}}-\\frac{{\\left({\\left(2 \\, T x^{3} \\sin\\left(\\frac{1}{6} \\, \\pi T^{2}\\right) + x^{4} \\sin\\left(\\frac{1}{6} \\, \\pi T^{2}\\right) + {\\left(T^{2} - 5\\right)} x^{2} \\sin\\left(\\frac{1}{6} \\, \\pi T^{2}\\right) - 2 \\, T x \\sin\\left(\\frac{1}{6} \\, \\pi T^{2}\\right) - {\\left(T^{2} - 4\\right)} \\sin\\left(\\frac{1}{6} \\, \\pi T^{2}\\right)\\right)} \\cos\\left(\\frac{1}{3} \\, \\pi T x\\right) + {\\left(2 \\, T x^{3} \\cos\\left(\\frac{1}{6} \\, \\pi T^{2}\\right) + x^{4} \\cos\\left(\\frac{1}{6} \\, \\pi T^{2}\\right) + {\\left(T^{2} - 5\\right)} x^{2} \\cos\\left(\\frac{1}{6} \\, \\pi T^{2}\\right) - 2 \\, T x \\cos\\left(\\frac{1}{6} \\, \\pi T^{2}\\right) - {\\left(T^{2} - 4\\right)} \\cos\\left(\\frac{1}{6} \\, \\pi T^{2}\\right)\\right)} \\sin\\left(\\frac{1}{3} \\, \\pi T x\\right)\\right)} \\cos\\left(\\frac{1}{6} \\, \\pi x^{2}\\right) - {\\left(2 \\, T x^{3} + x^{4} + {\\left(T^{2} - 5\\right)} x^{2} - 4 \\, T^{2} - 8 \\, T x - {\\left(2 \\, T x^{3} \\cos\\left(\\frac{1}{6} \\, \\pi T^{2}\\right) + x^{4} \\cos\\left(\\frac{1}{6} \\, \\pi T^{2}\\right) + {\\left(T^{2} - 5\\right)} x^{2} \\cos\\left(\\frac{1}{6} \\, \\pi T^{2}\\right) - 2 \\, T x \\cos\\left(\\frac{1}{6} \\, \\pi T^{2}\\right) - {\\left(T^{2} - 4\\right)} \\cos\\left(\\frac{1}{6} \\, \\pi T^{2}\\right)\\right)} \\cos\\left(\\frac{1}{3} \\, \\pi T x\\right) + {\\left(2 \\, T x^{3} \\sin\\left(\\frac{1}{6} \\, \\pi T^{2}\\right) + x^{4} \\sin\\left(\\frac{1}{6} \\, \\pi T^{2}\\right) + {\\left(T^{2} - 5\\right)} x^{2} \\sin\\left(\\frac{1}{6} \\, \\pi T^{2}\\right) - 2 \\, T x \\sin\\left(\\frac{1}{6} \\, \\pi T^{2}\\right) - {\\left(T^{2} - 4\\right)} \\sin\\left(\\frac{1}{6} \\, \\pi T^{2}\\right)\\right)} \\sin\\left(\\frac{1}{3} \\, \\pi T x\\right) + 4\\right)} \\sin\\left(\\frac{1}{6} \\, \\pi x^{2}\\right)}{2 \\, T x^{3} + x^{4} + {\\left(T^{2} - 2\\right)} x^{2} - T^{2} - 2 \\, T x + 1}\n",
       "\\end{math}"
      ],
      "text/plain": [
       "-(((2*T*x^3*sin(1/6*pi*T^2) + x^4*sin(1/6*pi*T^2) + (T^2 - 5)*x^2*sin(1/6*pi*T^2) - 2*T*x*sin(1/6*pi*T^2) - (T^2 - 4)*sin(1/6*pi*T^2))*cos(1/3*pi*T*x) + (2*T*x^3*cos(1/6*pi*T^2) + x^4*cos(1/6*pi*T^2) + (T^2 - 5)*x^2*cos(1/6*pi*T^2) - 2*T*x*cos(1/6*pi*T^2) - (T^2 - 4)*cos(1/6*pi*T^2))*sin(1/3*pi*T*x))*cos(1/6*pi*x^2) - (2*T*x^3 + x^4 + (T^2 - 5)*x^2 - 4*T^2 - 8*T*x - (2*T*x^3*cos(1/6*pi*T^2) + x^4*cos(1/6*pi*T^2) + (T^2 - 5)*x^2*cos(1/6*pi*T^2) - 2*T*x*cos(1/6*pi*T^2) - (T^2 - 4)*cos(1/6*pi*T^2))*cos(1/3*pi*T*x) + (2*T*x^3*sin(1/6*pi*T^2) + x^4*sin(1/6*pi*T^2) + (T^2 - 5)*x^2*sin(1/6*pi*T^2) - 2*T*x*sin(1/6*pi*T^2) - (T^2 - 4)*sin(1/6*pi*T^2))*sin(1/3*pi*T*x) + 4)*sin(1/6*pi*x^2))/(2*T*x^3 + x^4 + (T^2 - 2)*x^2 - T^2 - 2*T*x + 1)"
      ]
     },
     "metadata": {},
     "output_type": "display_data"
    }
   ],
   "source": [
    "var(\"x T\")\n",
    "eq1 = f(x) - f(x + T)\n",
    "show(eq1.simplify_full())"
   ]
  },
  {
   "cell_type": "code",
   "execution_count": 10,
   "metadata": {},
   "outputs": [
    {
     "data": {
      "text/latex": [
       "$\\displaystyle \\left\\{T \\mid T \\in \\mathbb{C} \\wedge - \\left(x^{2} - 4\\right) \\left(\\left(T + x\\right)^{2} - 1\\right) \\sin{\\left(\\frac{\\pi x^{2}}{6} \\right)} + \\left(x^{2} - 1\\right) \\left(\\left(T + x\\right)^{2} - 4\\right) \\sin{\\left(\\pi \\left(\\frac{T^{2}}{6} + \\frac{T x}{3} + \\frac{x^{2}}{6}\\right) \\right)} = 0 \\right\\} \\setminus \\left\\{1 - x, - x - 1\\right\\}$"
      ],
      "text/plain": [
       "Complement(ConditionSet(T, Eq(-(x**2 - 4)*((T + x)**2 - 1)*sin(pi*x**2/6) + (x**2 - 1)*((T + x)**2 - 4)*sin(pi*(T**2/6 + T*x/3 + x**2/6)), 0), Complexes), FiniteSet(1 - x, -x - 1))"
      ]
     },
     "execution_count": 10,
     "metadata": {},
     "output_type": "execute_result"
    }
   ],
   "source": [
    "solve(eq1, T, algorithm='sympy')"
   ]
  },
  {
   "cell_type": "markdown",
   "metadata": {},
   "source": [
    "Делаем вывод, что функция $\\textbf{не переодическая}$"
   ]
  },
  {
   "cell_type": "markdown",
   "metadata": {},
   "source": [
    "#### 3. Точки пересечения графика с осями координат."
   ]
  },
  {
   "cell_type": "code",
   "execution_count": 11,
   "metadata": {},
   "outputs": [
    {
     "data": {
      "text/plain": [
       "[[x == -2, x == 2],\n",
       " Complement(ConditionSet(x, Eq(sin(pi*x**2/6), 0), Complexes), FiniteSet(-1, 1))]"
      ]
     },
     "execution_count": 11,
     "metadata": {},
     "output_type": "execute_result"
    }
   ],
   "source": [
    "solve(f==0, x, algorithm='sympy')"
   ]
  },
  {
   "cell_type": "markdown",
   "metadata": {},
   "source": [
    "Корнями являются точки -2, 2 и точки, в которых синус принимает значение нуля. Так как синус переодическая функция, то корней будет бесконечно много.<br>\n",
    "Несколько примеров корней:"
   ]
  },
  {
   "cell_type": "code",
   "execution_count": 12,
   "metadata": {},
   "outputs": [
    {
     "data": {
      "text/plain": [
       "(-4.898979485566353, 10.954451150103319, 3.464101615137755)"
      ]
     },
     "execution_count": 12,
     "metadata": {},
     "output_type": "execute_result"
    }
   ],
   "source": [
    "find_root(f(x)==0, -5, -4.5), find_root(f(x)==0, 10, 11), find_root(f(x)==0, 3, 3.5)\n",
    "#find_root(f(x)==0, 3, 3.1)"
   ]
  },
  {
   "cell_type": "markdown",
   "metadata": {},
   "source": [
    "$\\textit{Примечание:}$ если задать промежуток, в котором нет корней для функции find_root, то при вычислении получим ошибку"
   ]
  },
  {
   "cell_type": "markdown",
   "metadata": {},
   "source": [
    "#### 4. Промежутки знакопостоянства.\n",
    "Функция $f(x)$ имеет бесконечно много корней, поэтому рассмотрим только наиболее интересный промежуток в окрестности нуля"
   ]
  },
  {
   "cell_type": "code",
   "execution_count": 13,
   "metadata": {},
   "outputs": [
    {
     "data": {
      "text/html": [
       "<html><script type=\"math/tex; mode=display\">\\newcommand{\\Bold}[1]{\\mathbf{#1}}\\left[\\left[\\sin\\left(\\frac{1}{6} \\, \\pi x^{2}\\right) = 0, x + 1 \\neq 0, x - 1 \\neq 0\\right], \\left[x = \\left(-2\\right), \\left(-1\\right) \\neq 0, \\left(-3\\right) \\neq 0\\right], \\left[x = 2, 3 \\neq 0, 1 \\neq 0\\right], \\left[2 < x, \\sin\\left(\\frac{1}{6} \\, \\pi x^{2}\\right) > 0\\right], \\left[\\left(-1\\right) < x, x < 1, \\sin\\left(\\frac{1}{6} \\, \\pi x^{2}\\right) > 0\\right], \\left[x < \\left(-2\\right), \\sin\\left(\\frac{1}{6} \\, \\pi x^{2}\\right) > 0\\right], \\left[1 < x, x < 2, -\\sin\\left(\\frac{1}{6} \\, \\pi x^{2}\\right) > 0\\right], \\left[\\left(-2\\right) < x, x < \\left(-1\\right), -\\sin\\left(\\frac{1}{6} \\, \\pi x^{2}\\right) > 0\\right]\\right]</script></html>"
      ],
      "text/latex": [
       "\\begin{math}\n",
       "\\newcommand{\\Bold}[1]{\\mathbf{#1}}\\left[\\left[\\sin\\left(\\frac{1}{6} \\, \\pi x^{2}\\right) = 0, x + 1 \\neq 0, x - 1 \\neq 0\\right], \\left[x = \\left(-2\\right), \\left(-1\\right) \\neq 0, \\left(-3\\right) \\neq 0\\right], \\left[x = 2, 3 \\neq 0, 1 \\neq 0\\right], \\left[2 < x, \\sin\\left(\\frac{1}{6} \\, \\pi x^{2}\\right) > 0\\right], \\left[\\left(-1\\right) < x, x < 1, \\sin\\left(\\frac{1}{6} \\, \\pi x^{2}\\right) > 0\\right], \\left[x < \\left(-2\\right), \\sin\\left(\\frac{1}{6} \\, \\pi x^{2}\\right) > 0\\right], \\left[1 < x, x < 2, -\\sin\\left(\\frac{1}{6} \\, \\pi x^{2}\\right) > 0\\right], \\left[\\left(-2\\right) < x, x < \\left(-1\\right), -\\sin\\left(\\frac{1}{6} \\, \\pi x^{2}\\right) > 0\\right]\\right]\n",
       "\\end{math}"
      ],
      "text/plain": [
       "[[sin(1/6*pi*x^2) == 0, x + 1 != 0, x - 1 != 0],\n",
       " [x == -2, -1 != 0, -3 != 0],\n",
       " [x == 2, 3 != 0, 1 != 0],\n",
       " [2 < x, sin(1/6*pi*x^2) > 0],\n",
       " [-1 < x, x < 1, sin(1/6*pi*x^2) > 0],\n",
       " [x < -2, sin(1/6*pi*x^2) > 0],\n",
       " [1 < x, x < 2, -sin(1/6*pi*x^2) > 0],\n",
       " [-2 < x, x < -1, -sin(1/6*pi*x^2) > 0]]"
      ]
     },
     "metadata": {},
     "output_type": "display_data"
    }
   ],
   "source": [
    "show(solve(f(x)>=0, x, to_poly_solve=True))"
   ]
  },
  {
   "cell_type": "code",
   "execution_count": 14,
   "metadata": {},
   "outputs": [
    {
     "data": {
      "image/png": "[encoded data removed]",
      "text/plain": [
       "Graphics object consisting of 23 graphics primitives"
      ]
     },
     "metadata": {},
     "output_type": "display_data"
    }
   ],
   "source": [
    "# отрисовка отрезка - основная линия для графика промежутков знакопостоянства\n",
    "intervals_of_constancy = plot(0, xmin=-3.5, xmax=3.5, ymin=-0.5, ymax=1)\n",
    "\n",
    "# добавление красных маркеров - отметки точек\\маркеров\n",
    "intervals_of_constancy  += point((-2,0), color=\"red\", size=30, zorder=10)\n",
    "intervals_of_constancy  += point((2, 0), color=\"red\", size=30,  zorder=10)\n",
    "intervals_of_constancy  += point((-2,0), color=\"red\", size=30, zorder=10)\n",
    "intervals_of_constancy  += point((2, 0), color=\"red\", size=30,  zorder=10)\n",
    "intervals_of_constancy  += point((0, 0), color=\"red\", size=30,  zorder=10)\n",
    "intervals_of_constancy  += point((-3, 0), color=\"red\", size=30,  zorder=10)\n",
    "intervals_of_constancy  += point((3, 0), color=\"red\", size=30,  zorder=10)\n",
    "intervals_of_constancy  += circle((-1, 0), 0.06, color='red')\n",
    "intervals_of_constancy  += circle((1, 0), 0.06, color='red')\n",
    "\n",
    "# здесь добавляем подписи точек (значения по оси X)\n",
    "intervals_of_constancy  += text(\"$0$\", (0, 0.25), color=\"black\", fontsize=14)\n",
    "intervals_of_constancy  += text(\"$-2$\", (-2.05, 0.25), color=\"black\", fontsize=14)\n",
    "intervals_of_constancy  += text(\"$2$\", (2, 0.25), color=\"black\", fontsize=14)\n",
    "intervals_of_constancy  += text(\"$-1$\", (-1.05, 0.25), color=\"black\", fontsize=14)\n",
    "intervals_of_constancy  += text(\"$1$\", (1, 0.25), color=\"black\", fontsize=14)\n",
    "intervals_of_constancy  += text(\"$-2.449$\", (-3, 0.25), color=\"black\", fontsize=13)\n",
    "intervals_of_constancy  += text(\"$2.449$\", (3, 0.25), color=\"black\", fontsize=13)\n",
    "\n",
    "# Здесь добавляем подписи знаков промежутков знакопостоянства\n",
    "y_margin = 0.65  # смещение по оси Y элемента подписи, чтобы он не наслаивался на линию\n",
    "intervals_of_constancy  += text(\"+ \", (2.5 , y_margin), color=\"black\", fontsize=14) \n",
    "intervals_of_constancy  += text(\"+\", (-0.5 , y_margin), color=\"black\", fontsize=14)\n",
    "intervals_of_constancy  += text(\"+\", (0.5 , y_margin), color=\"black\", fontsize=14)\n",
    "intervals_of_constancy  += text(\"-\", (-1.5 , y_margin), color=\"black\", fontsize=22)\n",
    "intervals_of_constancy  += text(\"-\", (1.5 , y_margin), color=\"black\", fontsize=22)\n",
    "intervals_of_constancy  += text(\"+\", (-2.5 , y_margin), color=\"black\", fontsize=14)\n",
    "\n",
    "# оси не нужны - скрываем\n",
    "intervals_of_constancy.show(axes=False)"
   ]
  },
  {
   "cell_type": "markdown",
   "metadata": {},
   "source": [
    "Далее знаки будут чередоваться<br>\n",
    "$\\textit{Примечание:}$ масштаб на оси нарушен для большей наглядности."
   ]
  },
  {
   "cell_type": "markdown",
   "metadata": {},
   "source": [
    "#### 5. Промежутки возрастания и убывания\n",
    "Для начала посчитаем производную нашей функции."
   ]
  },
  {
   "cell_type": "code",
   "execution_count": 15,
   "metadata": {},
   "outputs": [
    {
     "data": {
      "text/html": [
       "<html><script type=\"math/tex; mode=display\">\\newcommand{\\Bold}[1]{\\mathbf{#1}}x \\ {\\mapsto}\\ \\frac{\\pi {\\left(x^{2} - 4\\right)} x \\cos\\left(\\frac{1}{6} \\, \\pi x^{2}\\right)}{3 \\, {\\left(x^{2} - 1\\right)}} + \\frac{2 \\, x \\sin\\left(\\frac{1}{6} \\, \\pi x^{2}\\right)}{x^{2} - 1} - \\frac{2 \\, {\\left(x^{2} - 4\\right)} x \\sin\\left(\\frac{1}{6} \\, \\pi x^{2}\\right)}{{\\left(x^{2} - 1\\right)}^{2}}</script></html>"
      ],
      "text/latex": [
       "\\begin{math}\n",
       "\\newcommand{\\Bold}[1]{\\mathbf{#1}}x \\ {\\mapsto}\\ \\frac{\\pi {\\left(x^{2} - 4\\right)} x \\cos\\left(\\frac{1}{6} \\, \\pi x^{2}\\right)}{3 \\, {\\left(x^{2} - 1\\right)}} + \\frac{2 \\, x \\sin\\left(\\frac{1}{6} \\, \\pi x^{2}\\right)}{x^{2} - 1} - \\frac{2 \\, {\\left(x^{2} - 4\\right)} x \\sin\\left(\\frac{1}{6} \\, \\pi x^{2}\\right)}{{\\left(x^{2} - 1\\right)}^{2}}\n",
       "\\end{math}"
      ],
      "text/plain": [
       "x |--> 1/3*pi*(x^2 - 4)*x*cos(1/6*pi*x^2)/(x^2 - 1) + 2*x*sin(1/6*pi*x^2)/(x^2 - 1) - 2*(x^2 - 4)*x*sin(1/6*pi*x^2)/(x^2 - 1)^2"
      ]
     },
     "metadata": {},
     "output_type": "display_data"
    }
   ],
   "source": [
    "f_deriv = f.derivative()\n",
    "f_deriv.show()"
   ]
  },
  {
   "cell_type": "code",
   "execution_count": 16,
   "metadata": {},
   "outputs": [
    {
     "data": {
      "text/html": [
       "<html><script type=\"math/tex; mode=display\">\\newcommand{\\Bold}[1]{\\mathbf{#1}}\\left[\\left[\\pi x^{4} \\cos\\left(\\frac{1}{6} \\, \\pi x^{2}\\right) - 5 \\, \\pi x^{2} \\cos\\left(\\frac{1}{6} \\, \\pi x^{2}\\right) + 4 \\, \\pi \\cos\\left(\\frac{1}{6} \\, \\pi x^{2}\\right) + 18 \\, \\sin\\left(\\frac{1}{6} \\, \\pi x^{2}\\right) = 0, x + 1 \\neq 0, x - 1 \\neq 0\\right], \\left[x = 0, 1 \\neq 0, \\left(-1\\right) \\neq 0\\right], \\left[0 < x, \\pi x^{4} \\cos\\left(\\frac{1}{6} \\, \\pi x^{2}\\right) - 5 \\, \\pi x^{2} \\cos\\left(\\frac{1}{6} \\, \\pi x^{2}\\right) + 4 \\, \\pi \\cos\\left(\\frac{1}{6} \\, \\pi x^{2}\\right) + 18 \\, \\sin\\left(\\frac{1}{6} \\, \\pi x^{2}\\right) > 0\\right], \\left[x < 0, -\\pi x^{4} \\cos\\left(\\frac{1}{6} \\, \\pi x^{2}\\right) + 5 \\, \\pi x^{2} \\cos\\left(\\frac{1}{6} \\, \\pi x^{2}\\right) - 4 \\, \\pi \\cos\\left(\\frac{1}{6} \\, \\pi x^{2}\\right) - 18 \\, \\sin\\left(\\frac{1}{6} \\, \\pi x^{2}\\right) > 0\\right]\\right]</script></html>"
      ],
      "text/latex": [
       "\\begin{math}\n",
       "\\newcommand{\\Bold}[1]{\\mathbf{#1}}\\left[\\left[\\pi x^{4} \\cos\\left(\\frac{1}{6} \\, \\pi x^{2}\\right) - 5 \\, \\pi x^{2} \\cos\\left(\\frac{1}{6} \\, \\pi x^{2}\\right) + 4 \\, \\pi \\cos\\left(\\frac{1}{6} \\, \\pi x^{2}\\right) + 18 \\, \\sin\\left(\\frac{1}{6} \\, \\pi x^{2}\\right) = 0, x + 1 \\neq 0, x - 1 \\neq 0\\right], \\left[x = 0, 1 \\neq 0, \\left(-1\\right) \\neq 0\\right], \\left[0 < x, \\pi x^{4} \\cos\\left(\\frac{1}{6} \\, \\pi x^{2}\\right) - 5 \\, \\pi x^{2} \\cos\\left(\\frac{1}{6} \\, \\pi x^{2}\\right) + 4 \\, \\pi \\cos\\left(\\frac{1}{6} \\, \\pi x^{2}\\right) + 18 \\, \\sin\\left(\\frac{1}{6} \\, \\pi x^{2}\\right) > 0\\right], \\left[x < 0, -\\pi x^{4} \\cos\\left(\\frac{1}{6} \\, \\pi x^{2}\\right) + 5 \\, \\pi x^{2} \\cos\\left(\\frac{1}{6} \\, \\pi x^{2}\\right) - 4 \\, \\pi \\cos\\left(\\frac{1}{6} \\, \\pi x^{2}\\right) - 18 \\, \\sin\\left(\\frac{1}{6} \\, \\pi x^{2}\\right) > 0\\right]\\right]\n",
       "\\end{math}"
      ],
      "text/plain": [
       "[[pi*x^4*cos(1/6*pi*x^2) - 5*pi*x^2*cos(1/6*pi*x^2) + 4*pi*cos(1/6*pi*x^2) + 18*sin(1/6*pi*x^2) == 0,\n",
       "  x + 1 != 0,\n",
       "  x - 1 != 0],\n",
       " [x == 0, 1 != 0, -1 != 0],\n",
       " [0 < x,\n",
       "  pi*x^4*cos(1/6*pi*x^2) - 5*pi*x^2*cos(1/6*pi*x^2) + 4*pi*cos(1/6*pi*x^2) + 18*sin(1/6*pi*x^2) > 0],\n",
       " [x < 0,\n",
       "  -pi*x^4*cos(1/6*pi*x^2) + 5*pi*x^2*cos(1/6*pi*x^2) - 4*pi*cos(1/6*pi*x^2) - 18*sin(1/6*pi*x^2) > 0]]"
      ]
     },
     "metadata": {},
     "output_type": "display_data"
    }
   ],
   "source": [
    "show(solve(f_deriv>=0, x))"
   ]
  },
  {
   "cell_type": "markdown",
   "metadata": {},
   "source": [
    "Лучше нарисуем график, так будет гораздо понятней"
   ]
  },
  {
   "cell_type": "code",
   "execution_count": 17,
   "metadata": {},
   "outputs": [
    {
     "data": {
      "image/png": "[encoded data removed]",
      "text/plain": [
       "Graphics object consisting of 1 graphics primitive"
      ]
     },
     "execution_count": 17,
     "metadata": {},
     "output_type": "execute_result"
    }
   ],
   "source": [
    "plot(f_deriv, xmin=-10, xmax=10, ymin=-10, ymax=10, aspect_ratio=1/2)"
   ]
  },
  {
   "cell_type": "markdown",
   "metadata": {},
   "source": [
    "Нарисуем прямую знакопостоянства только для правой части, т.к левая строится аналогично"
   ]
  },
  {
   "cell_type": "code",
   "execution_count": 18,
   "metadata": {},
   "outputs": [
    {
     "data": {
      "image/png": "[encoded data removed]",
      "text/plain": [
       "Graphics object consisting of 20 graphics primitives"
      ]
     },
     "metadata": {},
     "output_type": "display_data"
    }
   ],
   "source": [
    "# отрисовка отрезка - основная линия для графика промежутков знакопостоянства\n",
    "intervals_of_constancy = plot(0, xmin=-0.3, xmax=6, ymin=-0.5, ymax=1)\n",
    "\n",
    "# добавление красных маркеров - отметки точек\\маркеров\n",
    "intervals_of_constancy  += point((0,0), color=\"red\", size=30, zorder=10)\n",
    "intervals_of_constancy  += point((2.218,0), color=\"red\", size=30, zorder=10)\n",
    "intervals_of_constancy  += point((3.3,0), color=\"red\", size=30, zorder=10)  #3.04\n",
    "intervals_of_constancy  += point((4.3,0), color=\"red\", size=30, zorder=10)\n",
    "intervals_of_constancy  += point((5.3,0), color=\"red\", size=30, zorder=10)\n",
    "intervals_of_constancy  += circle((1, 0), 0.06, color='red')\n",
    "\n",
    "\n",
    "# здесь добавляем подписи точек (значения по оси X)\n",
    "intervals_of_constancy  += text(\"$0$\", (0, 0.25), color=\"black\", fontsize=14)\n",
    "intervals_of_constancy  += text(\"$1$\", (1, 0.25), color=\"black\", fontsize=14)\n",
    "intervals_of_constancy  += text(\"$2.218$\", (2.218, 0.25), color=\"black\", fontsize=14)\n",
    "intervals_of_constancy  += text(\"$3.04$\", (3.3, 0.25), color=\"black\", fontsize=14)\n",
    "intervals_of_constancy  += text(\"$3.882$\", (4.3, 0.25), color=\"black\", fontsize=14)\n",
    "intervals_of_constancy  += text(\"$4.586$\", (5.3, 0.25), color=\"black\", fontsize=14)\n",
    "\n",
    "# Здесь добавляем подписи знаков промежутков знакопостоянства\n",
    "y_margin = 0.65  # смещение по оси Y элемента подписи, чтобы он не наслаивался на линию\n",
    "intervals_of_constancy  += text(\"-\", (-0.5 , y_margin), color=\"black\", fontsize=22)\n",
    "intervals_of_constancy  += text(\"+\", (0.5 , y_margin), color=\"black\", fontsize=14)\n",
    "intervals_of_constancy  += text(\"+\", (1.5 , y_margin), color=\"black\", fontsize=14)\n",
    "intervals_of_constancy  += text(\"-\", (2.75 , y_margin), color=\"black\", fontsize=22)\n",
    "intervals_of_constancy  += text(\"+\", (3.8 , y_margin), color=\"black\", fontsize=14)\n",
    "intervals_of_constancy  += text(\"-\", (4.7 , y_margin), color=\"black\", fontsize=22)\n",
    "intervals_of_constancy  += text(\"+\", (5.8 , y_margin), color=\"black\", fontsize=14)\n",
    "\n",
    "# оси не нужны - скрываем\n",
    "intervals_of_constancy.show(axes=False)"
   ]
  },
  {
   "cell_type": "markdown",
   "metadata": {},
   "source": [
    "$\\textit{Примечание:}$ масштаб на оси нарушен для большей наглядности."
   ]
  },
  {
   "cell_type": "markdown",
   "metadata": {},
   "source": [
    "#### 6. Точки экстремума и значения в этих точках.\n",
    "Дня начала рассмотрим интервал $(-1; 1)$. На этом интервале очевидно один экстремум в нуле. Убедимся в этом, рассмотрев несколько точек в окрестности нуля (из чётности будем брать правую полуокрестность)."
   ]
  },
  {
   "cell_type": "code",
   "execution_count": 19,
   "metadata": {},
   "outputs": [
    {
     "data": {
      "text/plain": [
       "(0, 0)"
      ]
     },
     "execution_count": 19,
     "metadata": {},
     "output_type": "execute_result"
    }
   ],
   "source": [
    "0, f(0)"
   ]
  },
  {
   "cell_type": "code",
   "execution_count": 20,
   "metadata": {},
   "outputs": [
    {
     "data": {
      "text/plain": [
       "(0.300000000000000, 4.29670329670330*sin(0.0150000000000000*pi))"
      ]
     },
     "execution_count": 20,
     "metadata": {},
     "output_type": "execute_result"
    }
   ],
   "source": [
    "0.3, f(0.3)"
   ]
  },
  {
   "cell_type": "code",
   "execution_count": 21,
   "metadata": {},
   "outputs": [
    {
     "data": {
      "text/plain": [
       "(0.150000000000000, 4.06905370843990*sin(0.00375000000000000*pi))"
      ]
     },
     "execution_count": 21,
     "metadata": {},
     "output_type": "execute_result"
    }
   ],
   "source": [
    "0.15, f(0.15)"
   ]
  },
  {
   "cell_type": "code",
   "execution_count": 22,
   "metadata": {},
   "outputs": [
    {
     "data": {
      "text/plain": [
       "(0.0200000000000000, 4.00120048019208*sin(0.0000666666666666667*pi))"
      ]
     },
     "execution_count": 22,
     "metadata": {},
     "output_type": "execute_result"
    }
   ],
   "source": [
    "0.02, f(0.02)"
   ]
  },
  {
   "cell_type": "markdown",
   "metadata": {},
   "source": [
    "Рассмотрим еще одну окрестность точки 3.882"
   ]
  },
  {
   "cell_type": "code",
   "execution_count": 23,
   "metadata": {},
   "outputs": [
    {
     "data": {
      "text/plain": [
       "(3.88200000000000, 0.786779232069768*sin(2.51165400000000*pi))"
      ]
     },
     "execution_count": 23,
     "metadata": {},
     "output_type": "execute_result"
    }
   ],
   "source": [
    "3.882, f(3.882)"
   ]
  },
  {
   "cell_type": "code",
   "execution_count": 24,
   "metadata": {},
   "outputs": [
    {
     "data": {
      "text/plain": [
       "(4, 2/5*sqrt(3))"
      ]
     },
     "execution_count": 24,
     "metadata": {},
     "output_type": "execute_result"
    }
   ],
   "source": [
    "4, f(4)"
   ]
  },
  {
   "cell_type": "code",
   "execution_count": 25,
   "metadata": {},
   "outputs": [
    {
     "data": {
      "text/plain": [
       "(3.50000000000000, 0.733333333333333*sin(2.04166666666667*pi))"
      ]
     },
     "execution_count": 25,
     "metadata": {},
     "output_type": "execute_result"
    }
   ],
   "source": [
    "3.5, f(3.5)"
   ]
  },
  {
   "cell_type": "markdown",
   "metadata": {},
   "source": [
    "#### 7. Непрерывность. Наличие точек разрыва и их классификация.\n",
    "Еще в первом пункте было установлено, что функция разрывна в точках -1 и 1. Выясним какого типа эти разрывы"
   ]
  },
  {
   "cell_type": "code",
   "execution_count": 26,
   "metadata": {},
   "outputs": [
    {
     "data": {
      "text/plain": [
       "(-Infinity, +Infinity)"
      ]
     },
     "execution_count": 26,
     "metadata": {},
     "output_type": "execute_result"
    }
   ],
   "source": [
    "limit(f(x), x=(-1),  dir='-'), limit(f(x), x=(-1), dir='+')"
   ]
  },
  {
   "cell_type": "code",
   "execution_count": 27,
   "metadata": {},
   "outputs": [
    {
     "data": {
      "text/plain": [
       "(+Infinity, -Infinity)"
      ]
     },
     "execution_count": 27,
     "metadata": {},
     "output_type": "execute_result"
    }
   ],
   "source": [
    "limit(f(x), x=(1), dir='-'), limit(f(x), x=(1), dir='+')"
   ]
  },
  {
   "cell_type": "markdown",
   "metadata": {},
   "source": [
    "Как видим пределы слева и справа разные и являются бесконечными. Значит это разрывы второго рода, они не являются устранимыми"
   ]
  },
  {
   "cell_type": "markdown",
   "metadata": {},
   "source": [
    "#### 8. Асимптоты.\n"
   ]
  },
  {
   "cell_type": "markdown",
   "metadata": {},
   "source": [
    "Из предыдущего пункта задания можно сразу сделать вывод, что есть две вертикальные асимптоты: $x = -1$ , $x = 1$. Исследуем на горизонтальные асимптоты:"
   ]
  },
  {
   "cell_type": "code",
   "execution_count": 28,
   "metadata": {},
   "outputs": [
    {
     "data": {
      "text/plain": [
       "(ind, ind)"
      ]
     },
     "execution_count": 28,
     "metadata": {},
     "output_type": "execute_result"
    }
   ],
   "source": [
    "limit(f(x), x=infinity, dir='-'), limit(f(x), x=infinity, dir='+')"
   ]
  },
  {
   "cell_type": "markdown",
   "metadata": {},
   "source": [
    "*ind - indefinite but bounded (неопределенный, но ограниченный)*<br> Горизонтальных асимптот нет."
   ]
  },
  {
   "cell_type": "markdown",
   "metadata": {},
   "source": [
    "Теперь исследуем на наклонные асимптоты: <br>\n",
    "Наклонная асимптота — прямая вида $y=kx+b$, если выполняется хотя бы одно из равенств:\n",
    "\n",
    "$\\lim _{x\\to +\\infty }(f(x)-kx)=b$<br>\n",
    "$\\lim _{x\\to -\\infty }(f(x)-kx)=b$"
   ]
  },
  {
   "cell_type": "markdown",
   "metadata": {},
   "source": [
    "Найдем коэффициент $k$:<br>\n",
    "$k =  \\lim _{x\\to \\infty }(f(x) / x)$"
   ]
  },
  {
   "cell_type": "code",
   "execution_count": 29,
   "metadata": {},
   "outputs": [
    {
     "data": {
      "text/plain": [
       "(0, 0)"
      ]
     },
     "execution_count": 29,
     "metadata": {},
     "output_type": "execute_result"
    }
   ],
   "source": [
    "limit(f(x)/x, x=infinity, dir = '+'), limit(f(x)/x, x=infinity, dir = '-')"
   ]
  },
  {
   "cell_type": "markdown",
   "metadata": {},
   "source": [
    "Нашлось $k$ только для вертикальных прямых, значит наклонных асимптот нет.\n",
    "\n",
    "Нарисуем асимптоты на графике:"
   ]
  },
  {
   "cell_type": "code",
   "execution_count": 30,
   "metadata": {},
   "outputs": [
    {
     "data": {
      "image/png": "[encoded data removed]",
      "text/plain": [
       "Graphics object consisting of 5 graphics primitives"
      ]
     },
     "metadata": {},
     "output_type": "display_data"
    }
   ],
   "source": [
    "intervals_of_constancy = plot(f, ymax=6, ymin=-6, xmin=-5, xmax=5, exclude = [-1,1], aspect_ratio = 1/4)\n",
    "var('t')\n",
    "intervals_of_constancy += parametric_plot((1, t), (t, -7, 7), color ='orange', linestyle='--' )\n",
    "intervals_of_constancy += parametric_plot((-1, t), (t, -7, 7), color ='orange', linestyle='--')\n",
    "intervals_of_constancy.show()"
   ]
  }
 ],
 "metadata": {
  "kernelspec": {
   "display_name": "SageMath 9.2",
   "language": "sage",
   "name": "sagemath"
  },
  "language_info": {
   "codemirror_mode": {
    "name": "ipython",
    "version": 3
   },
   "file_extension": ".py",
   "mimetype": "text/x-python",
   "name": "python",
   "nbconvert_exporter": "python",
   "pygments_lexer": "ipython3",
   "version": "3.7.7"
  }
 },
 "nbformat": 4,
 "nbformat_minor": 2
}
